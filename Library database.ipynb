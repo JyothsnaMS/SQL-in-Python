{
 "cells": [
  {
   "cell_type": "code",
   "execution_count": 74,
   "id": "1d90bf29",
   "metadata": {},
   "outputs": [],
   "source": [
    "import sqlite3"
   ]
  },
  {
   "cell_type": "code",
   "execution_count": 75,
   "id": "5c01ca4f",
   "metadata": {},
   "outputs": [],
   "source": [
    "con = sqlite3.connect('Lib_data_base.sqlite')"
   ]
  },
  {
   "cell_type": "code",
   "execution_count": 76,
   "id": "edcb59e8",
   "metadata": {},
   "outputs": [
    {
     "data": {
      "text/plain": [
       "<sqlite3.Connection at 0x22b1ae4e8a0>"
      ]
     },
     "execution_count": 76,
     "metadata": {},
     "output_type": "execute_result"
    }
   ],
   "source": [
    "con"
   ]
  },
  {
   "cell_type": "code",
   "execution_count": 77,
   "id": "36817cd5",
   "metadata": {},
   "outputs": [],
   "source": [
    "cur = con.cursor()"
   ]
  },
  {
   "cell_type": "code",
   "execution_count": 79,
   "id": "272b7761",
   "metadata": {},
   "outputs": [
    {
     "data": {
      "text/plain": [
       "<sqlite3.Cursor at 0x22b1ae89dc0>"
      ]
     },
     "execution_count": 79,
     "metadata": {},
     "output_type": "execute_result"
    }
   ],
   "source": [
    "cur.execute('insert into BOOK(Book_id, Title, Publish_name, Publish_year)values(?, ?, ?, ?)',(1, 'The Pilgrim\\'s Progress', 'John Bunyan', 1678))"
   ]
  },
  {
   "cell_type": "code",
   "execution_count": 80,
   "id": "fef01c96",
   "metadata": {},
   "outputs": [
    {
     "data": {
      "text/plain": [
       "<sqlite3.Cursor at 0x22b1ae89dc0>"
      ]
     },
     "execution_count": 80,
     "metadata": {},
     "output_type": "execute_result"
    }
   ],
   "source": [
    "cur.execute('insert into BOOK(Book_id, Title, Publish_name, Publish_year)values(?, ?, ?, ?)',(2, 'Robinson Crusoe', 'Daniel Defoe', 1719))"
   ]
  },
  {
   "cell_type": "code",
   "execution_count": 81,
   "id": "bd0e13b0",
   "metadata": {},
   "outputs": [
    {
     "data": {
      "text/plain": [
       "<sqlite3.Cursor at 0x22b1ae89dc0>"
      ]
     },
     "execution_count": 81,
     "metadata": {},
     "output_type": "execute_result"
    }
   ],
   "source": [
    "cur.execute('insert into BOOK(Book_id, Title, Publish_name, Publish_year)values(?, ?, ?, ?)',(3, 'Gulliver\\'s Travels', 'Jonathan Swift',  1726))"
   ]
  },
  {
   "cell_type": "code",
   "execution_count": 82,
   "id": "5d20c721",
   "metadata": {},
   "outputs": [
    {
     "data": {
      "text/plain": [
       "<sqlite3.Cursor at 0x22b1ae89dc0>"
      ]
     },
     "execution_count": 82,
     "metadata": {},
     "output_type": "execute_result"
    }
   ],
   "source": [
    "cur.execute('insert into BOOK(Book_id, Title, Publish_name, Publish_year)values(?, ?, ?, ?)',(4, 'Clarissa', 'Samuel Richardson',  1748))"
   ]
  },
  {
   "cell_type": "code",
   "execution_count": 83,
   "id": "67f3bcc5",
   "metadata": {},
   "outputs": [
    {
     "data": {
      "text/plain": [
       "<sqlite3.Cursor at 0x22b1ae89dc0>"
      ]
     },
     "execution_count": 83,
     "metadata": {},
     "output_type": "execute_result"
    }
   ],
   "source": [
    "cur.execute('insert into BOOK(Book_id, Title, Publish_name, Publish_year)values(?, ?, ?, ?)',(5, 'Tom Jones', 'Henry Fielding',  1749))"
   ]
  },
  {
   "cell_type": "code",
   "execution_count": 84,
   "id": "2434e723",
   "metadata": {},
   "outputs": [
    {
     "data": {
      "text/plain": [
       "<sqlite3.Cursor at 0x22b1ae89dc0>"
      ]
     },
     "execution_count": 84,
     "metadata": {},
     "output_type": "execute_result"
    }
   ],
   "source": [
    "cur.execute('insert into B_copies(Book_id, Programme_id, No_of_copies)values(?, ?, ?)',(1, 45, 20))"
   ]
  },
  {
   "cell_type": "code",
   "execution_count": 85,
   "id": "dd46fd6e",
   "metadata": {},
   "outputs": [
    {
     "data": {
      "text/plain": [
       "<sqlite3.Cursor at 0x22b1ae89dc0>"
      ]
     },
     "execution_count": 85,
     "metadata": {},
     "output_type": "execute_result"
    }
   ],
   "source": [
    "cur.execute('insert into B_copies(Book_id, Programme_id, No_of_copies)values(?, ?, ?)',(2, 55, 40))"
   ]
  },
  {
   "cell_type": "code",
   "execution_count": 86,
   "id": "95e1fd9d",
   "metadata": {},
   "outputs": [
    {
     "data": {
      "text/plain": [
       "<sqlite3.Cursor at 0x22b1ae89dc0>"
      ]
     },
     "execution_count": 86,
     "metadata": {},
     "output_type": "execute_result"
    }
   ],
   "source": [
    "cur.execute('insert into B_copies(Book_id, Programme_id, No_of_copies)values(?, ?, ?)',(3, 65, 60))"
   ]
  },
  {
   "cell_type": "code",
   "execution_count": 87,
   "id": "ba63a58a",
   "metadata": {},
   "outputs": [
    {
     "data": {
      "text/plain": [
       "<sqlite3.Cursor at 0x22b1ae89dc0>"
      ]
     },
     "execution_count": 87,
     "metadata": {},
     "output_type": "execute_result"
    }
   ],
   "source": [
    "cur.execute('insert into B_copies(Book_id, Programme_id, No_of_copies)values(?, ?, ?)',(4, 75, 80))"
   ]
  },
  {
   "cell_type": "code",
   "execution_count": 88,
   "id": "f9a3cbac",
   "metadata": {},
   "outputs": [
    {
     "data": {
      "text/plain": [
       "<sqlite3.Cursor at 0x22b1ae89dc0>"
      ]
     },
     "execution_count": 88,
     "metadata": {},
     "output_type": "execute_result"
    }
   ],
   "source": [
    "cur.execute('insert into B_copies(Book_id, Programme_id, No_of_copies)values(?, ?, ?)',(5, 85, 100))"
   ]
  },
  {
   "cell_type": "code",
   "execution_count": 89,
   "id": "6b5325b6",
   "metadata": {},
   "outputs": [
    {
     "data": {
      "text/plain": [
       "<sqlite3.Cursor at 0x22b1ae89dc0>"
      ]
     },
     "execution_count": 89,
     "metadata": {},
     "output_type": "execute_result"
    }
   ],
   "source": [
    "cur.execute('insert into B_lending(Book_id, Programme_id, Card_no, Date_out, Due_Date)values(?, ?, ?, ?, ?)',(1, 45, 'A15', '1-02-2017', '8-02-2017'))"
   ]
  },
  {
   "cell_type": "code",
   "execution_count": 90,
   "id": "4acd7b76",
   "metadata": {},
   "outputs": [
    {
     "data": {
      "text/plain": [
       "<sqlite3.Cursor at 0x22b1ae89dc0>"
      ]
     },
     "execution_count": 90,
     "metadata": {},
     "output_type": "execute_result"
    }
   ],
   "source": [
    "cur.execute('insert into B_lending(Book_id, Programme_id, Card_no, Date_out, Due_Date)values(?, ?, ?, ?, ?)',(2, 55, 'B16', '2-02-2017', '9-02-2017'))"
   ]
  },
  {
   "cell_type": "code",
   "execution_count": 91,
   "id": "42804946",
   "metadata": {},
   "outputs": [
    {
     "data": {
      "text/plain": [
       "<sqlite3.Cursor at 0x22b1ae89dc0>"
      ]
     },
     "execution_count": 91,
     "metadata": {},
     "output_type": "execute_result"
    }
   ],
   "source": [
    "cur.execute('insert into B_lending(Book_id, Programme_id, Card_no, Date_out, Due_Date)values(?, ?, ?, ?, ?)',(3, 65, 'C17', '11-02-2017', '19-02-2017'))"
   ]
  },
  {
   "cell_type": "code",
   "execution_count": 92,
   "id": "570c80ad",
   "metadata": {},
   "outputs": [
    {
     "data": {
      "text/plain": [
       "<sqlite3.Cursor at 0x22b1ae89dc0>"
      ]
     },
     "execution_count": 92,
     "metadata": {},
     "output_type": "execute_result"
    }
   ],
   "source": [
    "cur.execute('insert into B_lending(Book_id, Programme_id, Card_no, Date_out, Due_Date)values(?, ?, ?, ?, ?)',(4, 75, 'D18', '02-03-2017', '10-03-2017'))"
   ]
  },
  {
   "cell_type": "code",
   "execution_count": 93,
   "id": "9367c931",
   "metadata": {},
   "outputs": [
    {
     "data": {
      "text/plain": [
       "<sqlite3.Cursor at 0x22b1ae89dc0>"
      ]
     },
     "execution_count": 93,
     "metadata": {},
     "output_type": "execute_result"
    }
   ],
   "source": [
    "cur.execute('insert into B_lending(Book_id, Programme_id, Card_no, Date_out, Due_Date)values(?, ?, ?, ?, ?)',(5, 85, 'E19', '15-05-2017', '23-05-2017'))"
   ]
  },
  {
   "cell_type": "code",
   "execution_count": 94,
   "id": "c11d42a2",
   "metadata": {},
   "outputs": [
    {
     "data": {
      "text/plain": [
       "<sqlite3.Cursor at 0x22b1ae89dc0>"
      ]
     },
     "execution_count": 94,
     "metadata": {},
     "output_type": "execute_result"
    }
   ],
   "source": [
    "cur.execute('insert into Book_Author(Book_id, Author_Name)values(?, ?)',(1, 'John Bunyan'))"
   ]
  },
  {
   "cell_type": "code",
   "execution_count": 95,
   "id": "f73d663a",
   "metadata": {},
   "outputs": [
    {
     "data": {
      "text/plain": [
       "<sqlite3.Cursor at 0x22b1ae89dc0>"
      ]
     },
     "execution_count": 95,
     "metadata": {},
     "output_type": "execute_result"
    }
   ],
   "source": [
    "cur.execute('insert into Book_Author(Book_id, Author_Name)values(?, ?)',(2, 'Daniel Defoe'))"
   ]
  },
  {
   "cell_type": "code",
   "execution_count": 96,
   "id": "86fe7167",
   "metadata": {},
   "outputs": [
    {
     "data": {
      "text/plain": [
       "<sqlite3.Cursor at 0x22b1ae89dc0>"
      ]
     },
     "execution_count": 96,
     "metadata": {},
     "output_type": "execute_result"
    }
   ],
   "source": [
    "cur.execute('insert into Book_Author(Book_id, Author_Name)values(?, ?)',(3, 'Jonathan Swift'))"
   ]
  },
  {
   "cell_type": "code",
   "execution_count": 97,
   "id": "37bb2cc9",
   "metadata": {},
   "outputs": [
    {
     "data": {
      "text/plain": [
       "<sqlite3.Cursor at 0x22b1ae89dc0>"
      ]
     },
     "execution_count": 97,
     "metadata": {},
     "output_type": "execute_result"
    }
   ],
   "source": [
    "cur.execute('insert into Book_Author(Book_id, Author_Name)values(?, ?)',(4, 'Samuel Richardson'))"
   ]
  },
  {
   "cell_type": "code",
   "execution_count": 98,
   "id": "0cfc7a64",
   "metadata": {},
   "outputs": [
    {
     "data": {
      "text/plain": [
       "<sqlite3.Cursor at 0x22b1ae89dc0>"
      ]
     },
     "execution_count": 98,
     "metadata": {},
     "output_type": "execute_result"
    }
   ],
   "source": [
    "cur.execute('insert into Book_Author(Book_id, Author_Name)values(?, ?)',(5, 'Henry Fielding'))"
   ]
  },
  {
   "cell_type": "code",
   "execution_count": 99,
   "id": "87c89aad",
   "metadata": {},
   "outputs": [
    {
     "data": {
      "text/plain": [
       "<sqlite3.Cursor at 0x22b1ae89dc0>"
      ]
     },
     "execution_count": 99,
     "metadata": {},
     "output_type": "execute_result"
    }
   ],
   "source": [
    "cur.execute('insert into Lib_Programme(Programme_id, Programme_name, Address)values(?, ?, ?)',(45, 'Borrow', 'No.7 ABc Layout'))"
   ]
  },
  {
   "cell_type": "code",
   "execution_count": 100,
   "id": "6b84f36a",
   "metadata": {},
   "outputs": [
    {
     "data": {
      "text/plain": [
       "<sqlite3.Cursor at 0x22b1ae89dc0>"
      ]
     },
     "execution_count": 100,
     "metadata": {},
     "output_type": "execute_result"
    }
   ],
   "source": [
    "cur.execute('insert into Lib_Programme(Programme_id, Programme_name, Address)values(?, ?, ?)',(55, 'Rent', '65 street 45apartment'))"
   ]
  },
  {
   "cell_type": "code",
   "execution_count": 101,
   "id": "5fecfd4d",
   "metadata": {},
   "outputs": [
    {
     "data": {
      "text/plain": [
       "<sqlite3.Cursor at 0x22b1ae89dc0>"
      ]
     },
     "execution_count": 101,
     "metadata": {},
     "output_type": "execute_result"
    }
   ],
   "source": [
    "cur.execute('insert into Lib_Programme(Programme_id, Programme_name, Address)values(?, ?, ?)',(65, 'Buy', '25th avenue'))"
   ]
  },
  {
   "cell_type": "code",
   "execution_count": 102,
   "id": "24e719bb",
   "metadata": {},
   "outputs": [
    {
     "data": {
      "text/plain": [
       "<sqlite3.Cursor at 0x22b1ae89dc0>"
      ]
     },
     "execution_count": 102,
     "metadata": {},
     "output_type": "execute_result"
    }
   ],
   "source": [
    "cur.execute('insert into Lib_Programme(Programme_id, Programme_name, Address)values(?, ?, ?)',(75, 'Borrow', '45684 alley'))"
   ]
  },
  {
   "cell_type": "code",
   "execution_count": 103,
   "id": "cd2d6595",
   "metadata": {},
   "outputs": [
    {
     "data": {
      "text/plain": [
       "<sqlite3.Cursor at 0x22b1ae89dc0>"
      ]
     },
     "execution_count": 103,
     "metadata": {},
     "output_type": "execute_result"
    }
   ],
   "source": [
    "cur.execute('insert into Lib_Programme(Programme_id, Programme_name, Address)values(?, ?, ?)',(85, 'Loan', '9 3 by 4'))"
   ]
  },
  {
   "cell_type": "code",
   "execution_count": 104,
   "id": "80888f28",
   "metadata": {},
   "outputs": [
    {
     "data": {
      "text/plain": [
       "<sqlite3.Cursor at 0x22b1ae89dc0>"
      ]
     },
     "execution_count": 104,
     "metadata": {},
     "output_type": "execute_result"
    }
   ],
   "source": [
    "cur.execute('insert into Publisher(name, Address, Phone_num)values(?, ?, ?)',('Harry', 'No.7 ABc Layout', '985631755'))"
   ]
  },
  {
   "cell_type": "code",
   "execution_count": 105,
   "id": "a718c71b",
   "metadata": {},
   "outputs": [
    {
     "data": {
      "text/plain": [
       "<sqlite3.Cursor at 0x22b1ae89dc0>"
      ]
     },
     "execution_count": 105,
     "metadata": {},
     "output_type": "execute_result"
    }
   ],
   "source": [
    "cur.execute('insert into Publisher(name, Address, Phone_num)values(?, ?, ?)',('Ron', '65 street 45apartment', '754616545'))"
   ]
  },
  {
   "cell_type": "code",
   "execution_count": 106,
   "id": "3af20928",
   "metadata": {},
   "outputs": [
    {
     "data": {
      "text/plain": [
       "<sqlite3.Cursor at 0x22b1ae89dc0>"
      ]
     },
     "execution_count": 106,
     "metadata": {},
     "output_type": "execute_result"
    }
   ],
   "source": [
    "cur.execute('insert into Publisher(name, Address, Phone_num)values(?, ?, ?)',('Hermione', '25th avenue', '9564652163'))"
   ]
  },
  {
   "cell_type": "code",
   "execution_count": 107,
   "id": "8f1c91d2",
   "metadata": {},
   "outputs": [
    {
     "data": {
      "text/plain": [
       "<sqlite3.Cursor at 0x22b1ae89dc0>"
      ]
     },
     "execution_count": 107,
     "metadata": {},
     "output_type": "execute_result"
    }
   ],
   "source": [
    "cur.execute('insert into Publisher(name, Address, Phone_num)values(?, ?, ?)',('Draco', '45684 alley', '6564894657'))"
   ]
  },
  {
   "cell_type": "code",
   "execution_count": 108,
   "id": "f60bbe46",
   "metadata": {},
   "outputs": [
    {
     "data": {
      "text/plain": [
       "<sqlite3.Cursor at 0x22b1ae89dc0>"
      ]
     },
     "execution_count": 108,
     "metadata": {},
     "output_type": "execute_result"
    }
   ],
   "source": [
    "cur.execute('insert into Publisher(name, Address, Phone_num)values(?, ?, ?)',('Hagrid', '9 3 by 4', '5634768735'))"
   ]
  },
  {
   "cell_type": "code",
   "execution_count": 109,
   "id": "60cade73",
   "metadata": {},
   "outputs": [
    {
     "data": {
      "text/plain": [
       "<sqlite3.Cursor at 0x22b1ae89dc0>"
      ]
     },
     "execution_count": 109,
     "metadata": {},
     "output_type": "execute_result"
    }
   ],
   "source": [
    "cur.execute('select * from BOOK')"
   ]
  },
  {
   "cell_type": "code",
   "execution_count": 110,
   "id": "f0a96e1b",
   "metadata": {},
   "outputs": [
    {
     "name": "stdout",
     "output_type": "stream",
     "text": [
      "(1, \"The Pilgrim's Progress\", 'John Bunyan', 1678)\n",
      "(2, 'Robinson Crusoe', 'Daniel Defoe', 1719)\n",
      "(3, \"Gulliver's Travels\", 'Jonathan Swift', 1726)\n",
      "(4, 'Clarissa', 'Samuel Richardson', 1748)\n",
      "(5, 'Tom Jones', 'Henry Fielding', 1749)\n"
     ]
    }
   ],
   "source": [
    "for rows in cur:\n",
    "    print(rows)"
   ]
  },
  {
   "cell_type": "code",
   "execution_count": 111,
   "id": "f720e207",
   "metadata": {},
   "outputs": [
    {
     "name": "stdout",
     "output_type": "stream",
     "text": [
      "(1, 45, 20)\n",
      "(2, 55, 40)\n",
      "(3, 65, 60)\n",
      "(4, 75, 80)\n",
      "(5, 85, 100)\n"
     ]
    }
   ],
   "source": [
    "cur.execute('select * from B_Copies')\n",
    "for rows in cur:\n",
    "    print(rows)"
   ]
  },
  {
   "cell_type": "code",
   "execution_count": 112,
   "id": "21200ae0",
   "metadata": {},
   "outputs": [
    {
     "name": "stdout",
     "output_type": "stream",
     "text": [
      "(1, 45, 'A15', '1-02-2017', '8-02-2017')\n",
      "(2, 55, 'B16', '2-02-2017', '9-02-2017')\n",
      "(3, 65, 'C17', '11-02-2017', '19-02-2017')\n",
      "(4, 75, 'D18', '02-03-2017', '10-03-2017')\n",
      "(5, 85, 'E19', '15-05-2017', '23-05-2017')\n"
     ]
    }
   ],
   "source": [
    "cur.execute('select * from B_lending')\n",
    "for rows in cur:\n",
    "    print(rows)"
   ]
  },
  {
   "cell_type": "code",
   "execution_count": 113,
   "id": "09d795f5",
   "metadata": {},
   "outputs": [
    {
     "name": "stdout",
     "output_type": "stream",
     "text": [
      "(1, 'John Bunyan')\n",
      "(2, 'Daniel Defoe')\n",
      "(3, 'Jonathan Swift')\n",
      "(4, 'Samuel Richardson')\n",
      "(5, 'Henry Fielding')\n"
     ]
    }
   ],
   "source": [
    "cur.execute('select * from Book_Author')\n",
    "for rows in cur:\n",
    "    print(rows)"
   ]
  },
  {
   "cell_type": "code",
   "execution_count": 114,
   "id": "d12f302e",
   "metadata": {},
   "outputs": [
    {
     "name": "stdout",
     "output_type": "stream",
     "text": [
      "(45, 'Borrow', 'No.7 ABc Layout')\n",
      "(55, 'Rent', '65 street 45apartment')\n",
      "(65, 'Buy', '25th avenue')\n",
      "(75, 'Borrow', '45684 alley')\n",
      "(85, 'Loan', '9 3 by 4')\n"
     ]
    }
   ],
   "source": [
    "cur.execute('select * from Lib_Programme')\n",
    "for rows in cur:\n",
    "    print(rows)"
   ]
  },
  {
   "cell_type": "code",
   "execution_count": 115,
   "id": "c6b3b1b7",
   "metadata": {},
   "outputs": [
    {
     "name": "stdout",
     "output_type": "stream",
     "text": [
      "('Harry', 'No.7 ABc Layout', '985631755')\n",
      "('Ron', '65 street 45apartment', '754616545')\n",
      "('Hermione', '25th avenue', '9564652163')\n",
      "('Draco', '45684 alley', '6564894657')\n",
      "('Hagrid', '9 3 by 4', '5634768735')\n"
     ]
    }
   ],
   "source": [
    "cur.execute('select * from Publisher')\n",
    "for rows in cur:\n",
    "    print(rows)"
   ]
  },
  {
   "cell_type": "code",
   "execution_count": 116,
   "id": "7f69aabb",
   "metadata": {},
   "outputs": [
    {
     "data": {
      "text/plain": [
       "<sqlite3.Cursor at 0x22b1ae89dc0>"
      ]
     },
     "execution_count": 116,
     "metadata": {},
     "output_type": "execute_result"
    }
   ],
   "source": [
    "cur.execute('create view publication as select Publish_year from BOOK')"
   ]
  },
  {
   "cell_type": "code",
   "execution_count": 118,
   "id": "0dc35c91",
   "metadata": {},
   "outputs": [
    {
     "name": "stdout",
     "output_type": "stream",
     "text": [
      "(1678,)\n",
      "(1719,)\n",
      "(1726,)\n",
      "(1748,)\n",
      "(1749,)\n"
     ]
    }
   ],
   "source": [
    "cur.execute('select * from publication')\n",
    "for rows in cur:\n",
    "    print(rows)"
   ]
  },
  {
   "cell_type": "code",
   "execution_count": 131,
   "id": "df4b8c28",
   "metadata": {},
   "outputs": [
    {
     "data": {
      "text/plain": [
       "<sqlite3.Cursor at 0x22b1ae89dc0>"
      ]
     },
     "execution_count": 131,
     "metadata": {},
     "output_type": "execute_result"
    }
   ],
   "source": [
    "cur.execute(\"create view LEnding as select Card_no from B_Lending where Date_Out between '1/1/17'and '1/5/17' group by Card_no having count(*)>3\")"
   ]
  },
  {
   "cell_type": "code",
   "execution_count": 132,
   "id": "a8a3a89b",
   "metadata": {},
   "outputs": [],
   "source": [
    "cur.execute('select * from borrow')\n",
    "for rows in cur:\n",
    "    print(rows)"
   ]
  },
  {
   "cell_type": "code",
   "execution_count": 128,
   "id": "60e0ceec",
   "metadata": {},
   "outputs": [
    {
     "data": {
      "text/plain": [
       "<sqlite3.Cursor at 0x22b1ae89dc0>"
      ]
     },
     "execution_count": 128,
     "metadata": {},
     "output_type": "execute_result"
    }
   ],
   "source": [
    "cur.execute(\"delete from BOOK where Publish_name='John Bunyan'\")"
   ]
  },
  {
   "cell_type": "code",
   "execution_count": 130,
   "id": "99962a4d",
   "metadata": {},
   "outputs": [
    {
     "name": "stdout",
     "output_type": "stream",
     "text": [
      "(2, 'Robinson Crusoe', 'Daniel Defoe', 1719)\n",
      "(3, \"Gulliver's Travels\", 'Jonathan Swift', 1726)\n",
      "(4, 'Clarissa', 'Samuel Richardson', 1748)\n",
      "(5, 'Tom Jones', 'Henry Fielding', 1749)\n"
     ]
    }
   ],
   "source": [
    "cur.execute('select * from BOOK')\n",
    "for rows in cur:\n",
    "    print(rows)"
   ]
  },
  {
   "cell_type": "code",
   "execution_count": 133,
   "id": "afb5b52b",
   "metadata": {},
   "outputs": [],
   "source": [
    "cur.close()"
   ]
  },
  {
   "cell_type": "code",
   "execution_count": 134,
   "id": "cdb2f580",
   "metadata": {},
   "outputs": [],
   "source": [
    "con.commit()"
   ]
  }
 ],
 "metadata": {
  "kernelspec": {
   "display_name": "Python 3",
   "language": "python",
   "name": "python3"
  },
  "language_info": {
   "codemirror_mode": {
    "name": "ipython",
    "version": 3
   },
   "file_extension": ".py",
   "mimetype": "text/x-python",
   "name": "python",
   "nbconvert_exporter": "python",
   "pygments_lexer": "ipython3",
   "version": "3.8.8"
  }
 },
 "nbformat": 4,
 "nbformat_minor": 5
}
